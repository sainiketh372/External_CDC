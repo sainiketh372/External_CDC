{
 "cells": [
  {
   "cell_type": "code",
   "execution_count": 1,
   "id": "b4a1728a",
   "metadata": {},
   "outputs": [
    {
     "name": "stdout",
     "output_type": "stream",
     "text": [
      "[1, 2, 3]\n",
      "[10]\n"
     ]
    }
   ],
   "source": [
    "class Student:\n",
    "    def __init__ (self):\n",
    "        self.arr=[]\n",
    "    def add_ele(self,value):\n",
    "        self.arr.append(value)\n",
    "    def print_arr(self):\n",
    "        print(self.arr)\n",
    "ob1=Student()\n",
    "ob1.add_ele(1)\n",
    "ob1.add_ele(2)\n",
    "ob1.add_ele(3)\n",
    "ob1.print_arr()\n",
    "\n",
    "ob2=Student()\n",
    "ob2.add_ele(10)\n",
    "ob2.print_arr()"
   ]
  },
  {
   "cell_type": "code",
   "execution_count": 9,
   "id": "eaf1937b",
   "metadata": {},
   "outputs": [
    {
     "name": "stdout",
     "output_type": "stream",
     "text": [
      "classic 45 1045\n",
      "Thunder 56 1030\n",
      "Himalayas 60 1504\n"
     ]
    }
   ],
   "source": [
    "\n",
    "def __init__(self,name,mileage,cc):\n",
    "    self.name=name\n",
    "    self.mileage=mileage\n",
    "    self.cc=cc\n",
    "def getBike(self):\n",
    "    return{\n",
    "        \"name\":self.name\n",
    "        \"mileage\":self.mileage\n",
    "        \"cc\":slef.cc\n",
    "    }\n",
    "\n",
    "\n",
    "\n",
    "\n"
   ]
  },
  {
   "cell_type": "code",
   "execution_count": 13,
   "id": "254d8baf",
   "metadata": {},
   "outputs": [
    {
     "name": "stdout",
     "output_type": "stream",
     "text": [
      "Bike inventory:\n",
      "Bike 1: Honda CBR 250R, 35 kmpl\n",
      "Bike 2: Yamaha R15, 45 kmpl\n",
      "Bike 3: KTM Duke 390, 25 kmpl\n",
      "Bike 2 sold!\n",
      "Bike inventory:\n",
      "Bike 1: Honda CBR 250R, 35 kmpl\n",
      "Bike 3: KTM Duke 390, 25 kmpl\n",
      "Bike 4 added to inventory!\n",
      "Bike inventory:\n",
      "Bike 1: Honda CBR 250R, 35 kmpl\n",
      "Bike 3: KTM Duke 390, 25 kmpl\n",
      "Bike 4: Harley-Davidson Sportster 883, 20 kmpl\n",
      "Bike 1 sold!\n",
      "Bike inventory:\n",
      "Bike 3: KTM Duke 390, 25 kmpl\n",
      "Bike 4: Harley-Davidson Sportster 883, 20 kmpl\n"
     ]
    }
   ],
   "source": [
    "class Bike:\n",
    "    def __init__(self, brand, model, mileage):\n",
    "        self.brand = brand\n",
    "        self.model = model\n",
    "        self.mileage = mileage\n",
    "    \n",
    "    def __str__(self):\n",
    "        return f\"{self.brand} {self.model}, {self.mileage}\"\n",
    "\n",
    "bike_inventory = {\n",
    "    \"Bike 1\": Bike(\"Honda\", \"CBR 250R\", \"35 kmpl\"),\n",
    "    \"Bike 2\": Bike(\"Yamaha\", \"R15\", \"45 kmpl\"),\n",
    "    \"Bike 3\": Bike(\"KTM\", \"Duke 390\", \"25 kmpl\")\n",
    "}\n",
    "\n",
    "def buy_bike(bike_name):\n",
    "    if bike_name in bike_inventory:\n",
    "        del bike_inventory[bike_name]\n",
    "        print(f\"{bike_name} sold!\")\n",
    "    else:\n",
    "        print(f\"No bike with name {bike_name} found in inventory.\")\n",
    "    \n",
    "def add_bike(bike_name, brand, model, mileage):\n",
    "    bike_inventory[bike_name] = Bike(brand, model, mileage)\n",
    "    print(f\"{bike_name} added to inventory!\")\n",
    "    \n",
    "def delete_bike(brand):\n",
    "    if brand in bike_inventory:\n",
    "        del bike_inventory[brand]\n",
    "        print(f\"{brand} sold!\")\n",
    "    else:\n",
    "        print(f\"no bike found\")\n",
    "    \n",
    "def display_bikes():\n",
    "    print(\"Bike inventory:\")\n",
    "    for bike_name, bike in bike_inventory.items():\n",
    "        print(f\"{bike_name}: {bike}\")\n",
    "\n",
    "display_bikes()\n",
    "buy_bike(\"Bike 2\")\n",
    "display_bikes()\n",
    "add_bike(\"Bike 4\", \"Harley-Davidson\", \"Sportster 883\", \"20 kmpl\")\n",
    "display_bikes()\n",
    "delete_bike(\"Bike 1\")\n",
    "display_bikes()\n"
   ]
  },
  {
   "cell_type": "code",
   "execution_count": null,
   "id": "50abd473",
   "metadata": {},
   "outputs": [],
   "source": []
  },
  {
   "cell_type": "code",
   "execution_count": 35,
   "id": "c0ecfed6",
   "metadata": {},
   "outputs": [
    {
     "name": "stdout",
     "output_type": "stream",
     "text": [
      "In class A\n",
      "In class B\n",
      "In class D\n"
     ]
    }
   ],
   "source": [
    "class A:\n",
    "    def message(self):\n",
    "        print(\"In class A\")\n",
    "class B(A):\n",
    "    def message(self):\n",
    "        A().message()\n",
    "        print(\"In class B\")\n",
    "class C(A):\n",
    "    def message(self):\n",
    "        A().message()\n",
    "        print(\"In class c\")\n",
    "class D(B,C):\n",
    "    def message(self):\n",
    "        B().message()\n",
    "        print(\"In class D\")\n",
    "    \n",
    "ob=D()\n",
    "ob.message()"
   ]
  },
  {
   "cell_type": "code",
   "execution_count": 12,
   "id": "d82fa82b",
   "metadata": {},
   "outputs": [
    {
     "ename": "NameError",
     "evalue": "name 'push' is not defined",
     "output_type": "error",
     "traceback": [
      "\u001b[1;31m---------------------------------------------------------------------------\u001b[0m",
      "\u001b[1;31mNameError\u001b[0m                                 Traceback (most recent call last)",
      "\u001b[1;32m~\\AppData\\Local\\Temp\\ipykernel_16508\\2679360517.py\u001b[0m in \u001b[0;36m<module>\u001b[1;34m\u001b[0m\n\u001b[0;32m     13\u001b[0m \u001b[1;33m\u001b[0m\u001b[0m\n\u001b[0;32m     14\u001b[0m \u001b[0mlist\u001b[0m\u001b[1;33m=\u001b[0m\u001b[0mLL\u001b[0m\u001b[1;33m(\u001b[0m\u001b[1;33m)\u001b[0m\u001b[1;33m\u001b[0m\u001b[1;33m\u001b[0m\u001b[0m\n\u001b[1;32m---> 15\u001b[1;33m \u001b[0mlist\u001b[0m\u001b[1;33m.\u001b[0m\u001b[0mpush\u001b[0m\u001b[1;33m(\u001b[0m\u001b[1;34m\"HYD\"\u001b[0m\u001b[1;33m)\u001b[0m\u001b[1;33m\u001b[0m\u001b[1;33m\u001b[0m\u001b[0m\n\u001b[0m\u001b[0;32m     16\u001b[0m \u001b[0mlist\u001b[0m\u001b[1;33m.\u001b[0m\u001b[0mpush\u001b[0m\u001b[1;33m(\u001b[0m\u001b[1;34m\"BLR\"\u001b[0m\u001b[1;33m)\u001b[0m\u001b[1;33m\u001b[0m\u001b[1;33m\u001b[0m\u001b[0m\n\u001b[0;32m     17\u001b[0m \u001b[0mlist\u001b[0m\u001b[1;33m.\u001b[0m\u001b[0mpush\u001b[0m\u001b[1;33m(\u001b[0m\u001b[1;34m\"CHE\"\u001b[0m\u001b[1;33m)\u001b[0m\u001b[1;33m\u001b[0m\u001b[1;33m\u001b[0m\u001b[0m\n",
      "\u001b[1;32m~\\AppData\\Local\\Temp\\ipykernel_16508\\2679360517.py\u001b[0m in \u001b[0;36mpush\u001b[1;34m(self, new_city)\u001b[0m\n\u001b[0;32m      8\u001b[0m         \u001b[0mself\u001b[0m\u001b[1;33m.\u001b[0m\u001b[0mhead\u001b[0m\u001b[1;33m=\u001b[0m\u001b[1;32mNone\u001b[0m\u001b[1;33m\u001b[0m\u001b[1;33m\u001b[0m\u001b[0m\n\u001b[0;32m      9\u001b[0m     \u001b[1;32mdef\u001b[0m \u001b[0mpush\u001b[0m\u001b[1;33m(\u001b[0m\u001b[0mself\u001b[0m\u001b[1;33m,\u001b[0m\u001b[0mnew_city\u001b[0m\u001b[1;33m)\u001b[0m\u001b[1;33m:\u001b[0m\u001b[1;33m\u001b[0m\u001b[1;33m\u001b[0m\u001b[0m\n\u001b[1;32m---> 10\u001b[1;33m         \u001b[0mnew_node\u001b[0m\u001b[1;33m=\u001b[0m\u001b[0mpush\u001b[0m\u001b[1;33m(\u001b[0m\u001b[0mnew_city\u001b[0m\u001b[1;33m)\u001b[0m\u001b[1;33m\u001b[0m\u001b[1;33m\u001b[0m\u001b[0m\n\u001b[0m\u001b[0;32m     11\u001b[0m         \u001b[0mnew_node\u001b[0m\u001b[1;33m.\u001b[0m\u001b[0mnext\u001b[0m\u001b[1;33m=\u001b[0m\u001b[0mself\u001b[0m\u001b[1;33m.\u001b[0m\u001b[0mhead\u001b[0m\u001b[1;33m\u001b[0m\u001b[1;33m\u001b[0m\u001b[0m\n\u001b[0;32m     12\u001b[0m         \u001b[0mself\u001b[0m\u001b[1;33m.\u001b[0m\u001b[0mhead\u001b[0m\u001b[1;33m=\u001b[0m\u001b[0mnew_node\u001b[0m\u001b[1;33m\u001b[0m\u001b[1;33m\u001b[0m\u001b[0m\n",
      "\u001b[1;31mNameError\u001b[0m: name 'push' is not defined"
     ]
    }
   ],
   "source": [
    "class rev_list:\n",
    "    def Node (self,city):\n",
    "        self.city=city\n",
    "        self.next=None\n",
    "        \n",
    "class LL:\n",
    "    def Node (self):\n",
    "        self.head=None\n",
    "    def push(self,new_city):\n",
    "        new_node=push(new_city)\n",
    "        new_node.next=self.head\n",
    "        self.head=new_node\n",
    "\n",
    "list=LL()\n",
    "list.push(\"HYD\")\n",
    "list.push(\"BLR\")\n",
    "list.push(\"CHE\")\n",
    "list.push(\"GOI\")\n",
    "list.push(\"MUB\")\n",
    "\n",
    "x=\"MUB\"\n",
    "temp=list.head\n",
    "v=[]\n",
    "while (temp):\n",
    "    v.append(temp.city)\n",
    "    temp=temp.next\n",
    "\n",
    "if x in v:\n",
    "    print(\"PATH EXISTS\")\n",
    "else:\n",
    "    print(\"NO PATH\")"
   ]
  },
  {
   "cell_type": "code",
   "execution_count": null,
   "id": "1f94c456",
   "metadata": {},
   "outputs": [],
   "source": []
  }
 ],
 "metadata": {
  "kernelspec": {
   "display_name": "Python 3 (ipykernel)",
   "language": "python",
   "name": "python3"
  },
  "language_info": {
   "codemirror_mode": {
    "name": "ipython",
    "version": 3
   },
   "file_extension": ".py",
   "mimetype": "text/x-python",
   "name": "python",
   "nbconvert_exporter": "python",
   "pygments_lexer": "ipython3",
   "version": "3.9.7"
  }
 },
 "nbformat": 4,
 "nbformat_minor": 5
}
