{
 "cells": [
  {
   "cell_type": "markdown",
   "id": "b87a92c0",
   "metadata": {},
   "source": [
    "# GRAPHS"
   ]
  },
  {
   "cell_type": "code",
   "execution_count": 27,
   "id": "d1128bc6",
   "metadata": {},
   "outputs": [
    {
     "name": "stdout",
     "output_type": "stream",
     "text": [
      "20\n",
      "10\n",
      "40\n",
      "50\n",
      "30\n"
     ]
    }
   ],
   "source": [
    "def bfs(dictionar,start):\n",
    "    que=[start]\n",
    "    visited=[start]\n",
    "    while len(que)!=0:\n",
    "        ele=que.pop(0)\n",
    "        print(ele)\n",
    "        for i in dictionar[ele]:\n",
    "            if i not in visited:\n",
    "                que.append(i)\n",
    "                visited.append(i)\n",
    "                \n",
    "                \n",
    "dictionar={10:[40,20,50],20:[10,40],30:[40,50],40:[10,20,30,50],50:[10,20,30]}\n",
    "bfs(dictionar,20)\n"
   ]
  },
  {
   "cell_type": "code",
   "execution_count": 13,
   "id": "9b941553",
   "metadata": {},
   "outputs": [
    {
     "name": "stdout",
     "output_type": "stream",
     "text": [
      "10\n",
      "40\n",
      "20\n",
      "30\n",
      "50\n"
     ]
    }
   ],
   "source": [
    "'''visited=set()\n",
    "def dfs(node):\n",
    "    visited.add(node)\n",
    "    print(node)\n",
    "    for i in dictionar[node]:\n",
    "        if i not in visited:\n",
    "            dfs(i)\n",
    "\n",
    "                \n",
    "dictionar={10:[40,20,50],20:[10,40],30:[40,50],40:[10,20,30,50],50:[10,20,30]}\n",
    "dfs(10)'''\n",
    "\n",
    "#or\n",
    "\n",
    "def dfs(dictionar,start,visited=None):\n",
    "    if visited==None:\n",
    "        visited=[]\n",
    "    visited.append(start)\n",
    "    print(start)\n",
    "    for i in dictionar[start]:\n",
    "        if i not in visited:\n",
    "            visited.append(i)\n",
    "            dfs(dictionar,i,visited)\n",
    "        \n",
    "dictionar={10:[40,20,50],20:[10,40],30:[40,50],40:[10,20,30,50],50:[10,20,30]}\n",
    "dfs(dictionar,10)"
   ]
  },
  {
   "cell_type": "markdown",
   "id": "b8d3da2e",
   "metadata": {},
   "source": [
    "Stack is explicitly created and recursion needs stack and it is created defaultly."
   ]
  },
  {
   "cell_type": "code",
   "execution_count": 49,
   "id": "9afa5dbd",
   "metadata": {},
   "outputs": [
    {
     "ename": "IndexError",
     "evalue": "list assignment index out of range",
     "output_type": "error",
     "traceback": [
      "\u001b[1;31m---------------------------------------------------------------------------\u001b[0m",
      "\u001b[1;31mIndexError\u001b[0m                                Traceback (most recent call last)",
      "\u001b[1;32m~\\AppData\\Local\\Temp\\ipykernel_12148\\3453414426.py\u001b[0m in \u001b[0;36m<module>\u001b[1;34m\u001b[0m\n\u001b[1;32m----> 1\u001b[1;33m matrix[3][4]=[[0,1,0],\n\u001b[0m\u001b[0;32m      2\u001b[0m         \u001b[1;33m[\u001b[0m\u001b[1;36m1\u001b[0m\u001b[1;33m,\u001b[0m\u001b[1;36m1\u001b[0m\u001b[1;33m,\u001b[0m\u001b[1;36m0\u001b[0m\u001b[1;33m]\u001b[0m\u001b[1;33m,\u001b[0m\u001b[1;33m\u001b[0m\u001b[1;33m\u001b[0m\u001b[0m\n\u001b[0;32m      3\u001b[0m        \u001b[1;33m[\u001b[0m\u001b[1;36m0\u001b[0m\u001b[1;33m,\u001b[0m\u001b[1;36m0\u001b[0m\u001b[1;33m,\u001b[0m\u001b[1;36m1\u001b[0m\u001b[1;33m]\u001b[0m\u001b[1;33m,\u001b[0m\u001b[1;33m\u001b[0m\u001b[1;33m\u001b[0m\u001b[0m\n\u001b[0;32m      4\u001b[0m        [1,1,1]]\n\u001b[0;32m      5\u001b[0m \u001b[1;32mfor\u001b[0m \u001b[0mi\u001b[0m \u001b[1;32min\u001b[0m \u001b[0mrange\u001b[0m\u001b[1;33m(\u001b[0m\u001b[0mlen\u001b[0m\u001b[1;33m(\u001b[0m\u001b[0mmatrix\u001b[0m\u001b[1;33m)\u001b[0m\u001b[1;33m)\u001b[0m\u001b[1;33m:\u001b[0m\u001b[1;33m\u001b[0m\u001b[1;33m\u001b[0m\u001b[0m\n",
      "\u001b[1;31mIndexError\u001b[0m: list assignment index out of range"
     ]
    }
   ],
   "source": [
    "def Node:\n",
    "    def __init__ (self,data,left,right):\n",
    "        self.data=data\n",
    "        self.left=None\n",
    "        self.right=None\n",
    "    def mat(self,root):\n",
    "        \n",
    "        \n",
    "\n",
    "\n",
    "matrix=[[0,1,0],\n",
    "        [1,1,0],\n",
    "       [0,0,1],\n",
    "       [1,1,1]]\n"
   ]
  },
  {
   "cell_type": "code",
   "execution_count": null,
   "id": "a86c68d2",
   "metadata": {},
   "outputs": [],
   "source": []
  }
 ],
 "metadata": {
  "kernelspec": {
   "display_name": "Python 3 (ipykernel)",
   "language": "python",
   "name": "python3"
  },
  "language_info": {
   "codemirror_mode": {
    "name": "ipython",
    "version": 3
   },
   "file_extension": ".py",
   "mimetype": "text/x-python",
   "name": "python",
   "nbconvert_exporter": "python",
   "pygments_lexer": "ipython3",
   "version": "3.9.7"
  }
 },
 "nbformat": 4,
 "nbformat_minor": 5
}
