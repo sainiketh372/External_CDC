{
 "cells": [
  {
   "cell_type": "code",
   "execution_count": 6,
   "id": "2e13120e",
   "metadata": {
    "scrolled": true
   },
   "outputs": [
    {
     "name": "stdout",
     "output_type": "stream",
     "text": [
      "message\n"
     ]
    }
   ],
   "source": [
    "#method overloading\n",
    "\n",
    "class A:\n",
    "    def message(self,data):\n",
    "        print(\"message with data\")\n",
    "    def message(self):\n",
    "        print(\"message\")\n",
    "\n",
    "A().message()"
   ]
  },
  {
   "cell_type": "code",
   "execution_count": 13,
   "id": "abbe72ba",
   "metadata": {},
   "outputs": [
    {
     "name": "stdout",
     "output_type": "stream",
     "text": [
      "Hello world\n"
     ]
    }
   ],
   "source": [
    "from abc import ABC, abstractmethod\n",
    "'''abc=abstract base class and ABC=method'''\n",
    "class Example(ABC):\n",
    "    @abstractmethod #anotation\n",
    "    def method_one(self):\n",
    "        pass\n",
    "    \n",
    "#override\n",
    "class student(Example):\n",
    "    def method_one(self):\n",
    "        print(\"Hello world\")\n",
    "ob=student()\n",
    "ob.method_one()    \n",
    "    "
   ]
  },
  {
   "cell_type": "code",
   "execution_count": null,
   "id": "3a50760f",
   "metadata": {},
   "outputs": [],
   "source": []
  }
 ],
 "metadata": {
  "kernelspec": {
   "display_name": "Python 3 (ipykernel)",
   "language": "python",
   "name": "python3"
  },
  "language_info": {
   "codemirror_mode": {
    "name": "ipython",
    "version": 3
   },
   "file_extension": ".py",
   "mimetype": "text/x-python",
   "name": "python",
   "nbconvert_exporter": "python",
   "pygments_lexer": "ipython3",
   "version": "3.9.7"
  }
 },
 "nbformat": 4,
 "nbformat_minor": 5
}
